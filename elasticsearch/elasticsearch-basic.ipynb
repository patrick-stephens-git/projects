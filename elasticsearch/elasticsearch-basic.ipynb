{
 "cells": [
  {
   "cell_type": "code",
   "execution_count": 1,
   "id": "ddf0909a",
   "metadata": {},
   "outputs": [],
   "source": [
    "## Notes from https://github.com/dylanjcastillo/random/blob/main/elasticsearch.ipynb, https://dylancastillo.co/elasticsearch-python/"
   ]
  },
  {
   "cell_type": "code",
   "execution_count": 2,
   "id": "eb6726a8",
   "metadata": {},
   "outputs": [],
   "source": [
    "## Index Management:\n",
    "## Get a list of all indexes on Elasticsearch Server (via command line): curl http://localhost:9200/_aliases\n",
    "## Delete an Index on Elasticsearch Server (via command line): curl -XDELETE localhost:9200/index_name"
   ]
  },
  {
   "cell_type": "code",
   "execution_count": 3,
   "id": "3b57131f",
   "metadata": {},
   "outputs": [],
   "source": [
    "#### Step 1: Run an ES cluster via Docker\n",
    "## Open a terminal and run this code to start a single-node ES cluster you can use for local development:\n",
    "## docker run --rm -p 9200:9200 -p 9300:9300 -e \"xpack.security.enabled=false\" -e \"discovery.type=single-node\" docker.elastic.co/elasticsearch/elasticsearch:8.3.3\n",
    "#### Broken Down:\n",
    "## docker run                        # command you use to run an image inside -a container\n",
    "## --rm                              # parameter lets Docker know to clean up the container and remove the file system when the container exits\n",
    "## -p 9200:9200 -p 9300:9300         # tells Docker which ports to open on the container's network interface\n",
    "## -e \"xpack.security.enabled=false\" # tells Docker to start with the security features disabled (this parameter should be set to true (or excluded) when running in production)\n",
    "## -e \"discovery.type=single-node\"   # tells Docker to create a cluster with a single node"
   ]
  },
  {
   "cell_type": "code",
   "execution_count": 4,
   "id": "b8a771ba",
   "metadata": {
    "scrolled": false
   },
   "outputs": [],
   "source": [
    "#### Step 2: Connect to ES cluster\n",
    "from elasticsearch import Elasticsearch, RequestError\n",
    "\n",
    "es = Elasticsearch(\"http://localhost:9200\")\n",
    "# es.info().body"
   ]
  },
  {
   "cell_type": "code",
   "execution_count": 5,
   "id": "dfdcbcc8",
   "metadata": {},
   "outputs": [
    {
     "name": "stdout",
     "output_type": "stream",
     "text": [
      "<class 'pandas.core.frame.DataFrame'>\n",
      "Int64Index: 5000 entries, 10286 to 23728\n",
      "Data columns (total 8 columns):\n",
      " #   Column            Non-Null Count  Dtype \n",
      "---  ------            --------------  ----- \n",
      " 0   Release Year      5000 non-null   int64 \n",
      " 1   Title             5000 non-null   object\n",
      " 2   Origin/Ethnicity  5000 non-null   object\n",
      " 3   Director          5000 non-null   object\n",
      " 4   Cast              5000 non-null   object\n",
      " 5   Genre             5000 non-null   object\n",
      " 6   Wiki Page         5000 non-null   object\n",
      " 7   Plot              5000 non-null   object\n",
      "dtypes: int64(1), object(7)\n",
      "memory usage: 351.6+ KB\n"
     ]
    },
    {
     "data": {
      "text/html": [
       "<div>\n",
       "<style scoped>\n",
       "    .dataframe tbody tr th:only-of-type {\n",
       "        vertical-align: middle;\n",
       "    }\n",
       "\n",
       "    .dataframe tbody tr th {\n",
       "        vertical-align: top;\n",
       "    }\n",
       "\n",
       "    .dataframe thead th {\n",
       "        text-align: right;\n",
       "    }\n",
       "</style>\n",
       "<table border=\"1\" class=\"dataframe\">\n",
       "  <thead>\n",
       "    <tr style=\"text-align: right;\">\n",
       "      <th></th>\n",
       "      <th>Release Year</th>\n",
       "      <th>Title</th>\n",
       "      <th>Origin/Ethnicity</th>\n",
       "      <th>Director</th>\n",
       "      <th>Cast</th>\n",
       "      <th>Genre</th>\n",
       "      <th>Wiki Page</th>\n",
       "      <th>Plot</th>\n",
       "    </tr>\n",
       "  </thead>\n",
       "  <tbody>\n",
       "    <tr>\n",
       "      <th>10286</th>\n",
       "      <td>1984</td>\n",
       "      <td>Songwriter</td>\n",
       "      <td>American</td>\n",
       "      <td>Alan Rudolph</td>\n",
       "      <td>Willie Nelson, Kris Kristofferson, Melinda Dillon</td>\n",
       "      <td>drama</td>\n",
       "      <td>https://en.wikipedia.org/wiki/Songwriter_(1984...</td>\n",
       "      <td>The film concerns Doc Jenkins, (Willie Nelson)...</td>\n",
       "    </tr>\n",
       "    <tr>\n",
       "      <th>28335</th>\n",
       "      <td>2012</td>\n",
       "      <td>Da Thadiya (ഡാ തടിയാ)</td>\n",
       "      <td>Malayalam</td>\n",
       "      <td>Aashiq Abu</td>\n",
       "      <td>Shekhar Menon, Ann Augustine, Sreenath Bhasi, ...</td>\n",
       "      <td>romance, comedy</td>\n",
       "      <td>https://en.wikipedia.org/wiki/Da_Thadiya</td>\n",
       "      <td>The film tells the love story of an obese yout...</td>\n",
       "    </tr>\n",
       "    <tr>\n",
       "      <th>10742</th>\n",
       "      <td>1987</td>\n",
       "      <td>Ironweed</td>\n",
       "      <td>American</td>\n",
       "      <td>Héctor Babenco</td>\n",
       "      <td>Jack Nicholson, Meryl Streep, Tom Waits, Fred ...</td>\n",
       "      <td>drama</td>\n",
       "      <td>https://en.wikipedia.org/wiki/Ironweed_(film)</td>\n",
       "      <td>Francis Phelan (Jack Nicholson) is a washed-up...</td>\n",
       "    </tr>\n",
       "    <tr>\n",
       "      <th>28533</th>\n",
       "      <td>2015</td>\n",
       "      <td>Kaliyachan</td>\n",
       "      <td>Malayalam</td>\n",
       "      <td>Farooq Abdul Rahman</td>\n",
       "      <td>Manoj K Jayan, and Vaiga</td>\n",
       "      <td>drama</td>\n",
       "      <td>https://en.wikipedia.org/wiki/Kaliyachan</td>\n",
       "      <td>The film is about the Kathakali actor, Kunhira...</td>\n",
       "    </tr>\n",
       "    <tr>\n",
       "      <th>24808</th>\n",
       "      <td>1971</td>\n",
       "      <td>Kati Patang</td>\n",
       "      <td>Bollywood</td>\n",
       "      <td>Shakti Samanta</td>\n",
       "      <td>Rajesh Khanna, Asha Parekh</td>\n",
       "      <td>romance</td>\n",
       "      <td>https://en.wikipedia.org/wiki/Kati_Patang_(197...</td>\n",
       "      <td>Madhavi \"Madhu\" (Asha Parekh) is an orphan liv...</td>\n",
       "    </tr>\n",
       "  </tbody>\n",
       "</table>\n",
       "</div>"
      ],
      "text/plain": [
       "       Release Year                  Title Origin/Ethnicity  \\\n",
       "10286          1984             Songwriter         American   \n",
       "28335          2012  Da Thadiya (ഡാ തടിയാ)        Malayalam   \n",
       "10742          1987               Ironweed         American   \n",
       "28533          2015             Kaliyachan        Malayalam   \n",
       "24808          1971            Kati Patang        Bollywood   \n",
       "\n",
       "                  Director                                               Cast  \\\n",
       "10286         Alan Rudolph  Willie Nelson, Kris Kristofferson, Melinda Dillon   \n",
       "28335           Aashiq Abu  Shekhar Menon, Ann Augustine, Sreenath Bhasi, ...   \n",
       "10742       Héctor Babenco  Jack Nicholson, Meryl Streep, Tom Waits, Fred ...   \n",
       "28533  Farooq Abdul Rahman                           Manoj K Jayan, and Vaiga   \n",
       "24808       Shakti Samanta                         Rajesh Khanna, Asha Parekh   \n",
       "\n",
       "                 Genre                                          Wiki Page  \\\n",
       "10286            drama  https://en.wikipedia.org/wiki/Songwriter_(1984...   \n",
       "28335  romance, comedy           https://en.wikipedia.org/wiki/Da_Thadiya   \n",
       "10742            drama      https://en.wikipedia.org/wiki/Ironweed_(film)   \n",
       "28533            drama           https://en.wikipedia.org/wiki/Kaliyachan   \n",
       "24808          romance  https://en.wikipedia.org/wiki/Kati_Patang_(197...   \n",
       "\n",
       "                                                    Plot  \n",
       "10286  The film concerns Doc Jenkins, (Willie Nelson)...  \n",
       "28335  The film tells the love story of an obese yout...  \n",
       "10742  Francis Phelan (Jack Nicholson) is a washed-up...  \n",
       "28533  The film is about the Kathakali actor, Kunhira...  \n",
       "24808  Madhavi \"Madhu\" (Asha Parekh) is an orphan liv...  "
      ]
     },
     "execution_count": 5,
     "metadata": {},
     "output_type": "execute_result"
    }
   ],
   "source": [
    "#### Step 3: Import Dataset\n",
    "import pandas as pd\n",
    "from pandas import json_normalize\n",
    "\n",
    "df = pd.read_csv('dataset.csv').dropna().sample(5000, random_state=42)\n",
    "df.info()\n",
    "df.head()"
   ]
  },
  {
   "cell_type": "code",
   "execution_count": 6,
   "id": "c2b87154",
   "metadata": {},
   "outputs": [
    {
     "ename": "ConnectionError",
     "evalue": "Connection error caused by: ConnectionError(Connection error caused by: NewConnectionError(<urllib3.connection.HTTPConnection object at 0x7fa970ff8d00>: Failed to establish a new connection: [Errno 61] Connection refused))",
     "output_type": "error",
     "traceback": [
      "\u001b[0;31m---------------------------------------------------------------------------\u001b[0m",
      "\u001b[0;31mConnectionError\u001b[0m                           Traceback (most recent call last)",
      "\u001b[0;32m/var/folders/v8/5sm643_x35lbz1zwllwxvq4r0000gn/T/ipykernel_10780/2075471145.py\u001b[0m in \u001b[0;36m<module>\u001b[0;34m\u001b[0m\n\u001b[1;32m     12\u001b[0m \u001b[0;34m\u001b[0m\u001b[0m\n\u001b[1;32m     13\u001b[0m \u001b[0mindex_name\u001b[0m \u001b[0;34m=\u001b[0m \u001b[0;34m'movies-index'\u001b[0m\u001b[0;34m\u001b[0m\u001b[0;34m\u001b[0m\u001b[0m\n\u001b[0;32m---> 14\u001b[0;31m \u001b[0mes\u001b[0m\u001b[0;34m.\u001b[0m\u001b[0mindices\u001b[0m\u001b[0;34m.\u001b[0m\u001b[0mcreate\u001b[0m\u001b[0;34m(\u001b[0m\u001b[0mindex\u001b[0m \u001b[0;34m=\u001b[0m \u001b[0mindex_name\u001b[0m\u001b[0;34m,\u001b[0m \u001b[0mmappings\u001b[0m \u001b[0;34m=\u001b[0m \u001b[0mmappings\u001b[0m\u001b[0;34m)\u001b[0m\u001b[0;34m\u001b[0m\u001b[0;34m\u001b[0m\u001b[0m\n\u001b[0m",
      "\u001b[0;32m/Library/Frameworks/Python.framework/Versions/3.9/lib/python3.9/site-packages/elasticsearch/_sync/client/utils.py\u001b[0m in \u001b[0;36mwrapped\u001b[0;34m(*args, **kwargs)\u001b[0m\n\u001b[1;32m    412\u001b[0m                         \u001b[0;32mpass\u001b[0m\u001b[0;34m\u001b[0m\u001b[0;34m\u001b[0m\u001b[0m\n\u001b[1;32m    413\u001b[0m \u001b[0;34m\u001b[0m\u001b[0m\n\u001b[0;32m--> 414\u001b[0;31m             \u001b[0;32mreturn\u001b[0m \u001b[0mapi\u001b[0m\u001b[0;34m(\u001b[0m\u001b[0;34m*\u001b[0m\u001b[0margs\u001b[0m\u001b[0;34m,\u001b[0m \u001b[0;34m**\u001b[0m\u001b[0mkwargs\u001b[0m\u001b[0;34m)\u001b[0m\u001b[0;34m\u001b[0m\u001b[0;34m\u001b[0m\u001b[0m\n\u001b[0m\u001b[1;32m    415\u001b[0m \u001b[0;34m\u001b[0m\u001b[0m\n\u001b[1;32m    416\u001b[0m         \u001b[0;32mreturn\u001b[0m \u001b[0mwrapped\u001b[0m  \u001b[0;31m# type: ignore[return-value]\u001b[0m\u001b[0;34m\u001b[0m\u001b[0;34m\u001b[0m\u001b[0m\n",
      "\u001b[0;32m/Library/Frameworks/Python.framework/Versions/3.9/lib/python3.9/site-packages/elasticsearch/_sync/client/indices.py\u001b[0m in \u001b[0;36mcreate\u001b[0;34m(self, index, aliases, error_trace, filter_path, human, mappings, master_timeout, pretty, settings, timeout, wait_for_active_shards)\u001b[0m\n\u001b[1;32m    507\u001b[0m         \u001b[0;32mif\u001b[0m \u001b[0m__body\u001b[0m \u001b[0;32mis\u001b[0m \u001b[0;32mnot\u001b[0m \u001b[0;32mNone\u001b[0m\u001b[0;34m:\u001b[0m\u001b[0;34m\u001b[0m\u001b[0;34m\u001b[0m\u001b[0m\n\u001b[1;32m    508\u001b[0m             \u001b[0m__headers\u001b[0m\u001b[0;34m[\u001b[0m\u001b[0;34m\"content-type\"\u001b[0m\u001b[0;34m]\u001b[0m \u001b[0;34m=\u001b[0m \u001b[0;34m\"application/json\"\u001b[0m\u001b[0;34m\u001b[0m\u001b[0;34m\u001b[0m\u001b[0m\n\u001b[0;32m--> 509\u001b[0;31m         return self.perform_request(  # type: ignore[return-value]\n\u001b[0m\u001b[1;32m    510\u001b[0m             \u001b[0;34m\"PUT\"\u001b[0m\u001b[0;34m,\u001b[0m \u001b[0m__path\u001b[0m\u001b[0;34m,\u001b[0m \u001b[0mparams\u001b[0m\u001b[0;34m=\u001b[0m\u001b[0m__query\u001b[0m\u001b[0;34m,\u001b[0m \u001b[0mheaders\u001b[0m\u001b[0;34m=\u001b[0m\u001b[0m__headers\u001b[0m\u001b[0;34m,\u001b[0m \u001b[0mbody\u001b[0m\u001b[0;34m=\u001b[0m\u001b[0m__body\u001b[0m\u001b[0;34m\u001b[0m\u001b[0;34m\u001b[0m\u001b[0m\n\u001b[1;32m    511\u001b[0m         )\n",
      "\u001b[0;32m/Library/Frameworks/Python.framework/Versions/3.9/lib/python3.9/site-packages/elasticsearch/_sync/client/_base.py\u001b[0m in \u001b[0;36mperform_request\u001b[0;34m(self, method, path, params, headers, body)\u001b[0m\n\u001b[1;32m    388\u001b[0m         \u001b[0;31m# Use the internal clients .perform_request() implementation\u001b[0m\u001b[0;34m\u001b[0m\u001b[0;34m\u001b[0m\u001b[0m\n\u001b[1;32m    389\u001b[0m         \u001b[0;31m# so we take advantage of their transport options.\u001b[0m\u001b[0;34m\u001b[0m\u001b[0;34m\u001b[0m\u001b[0m\n\u001b[0;32m--> 390\u001b[0;31m         return self._client.perform_request(\n\u001b[0m\u001b[1;32m    391\u001b[0m             \u001b[0mmethod\u001b[0m\u001b[0;34m,\u001b[0m \u001b[0mpath\u001b[0m\u001b[0;34m,\u001b[0m \u001b[0mparams\u001b[0m\u001b[0;34m=\u001b[0m\u001b[0mparams\u001b[0m\u001b[0;34m,\u001b[0m \u001b[0mheaders\u001b[0m\u001b[0;34m=\u001b[0m\u001b[0mheaders\u001b[0m\u001b[0;34m,\u001b[0m \u001b[0mbody\u001b[0m\u001b[0;34m=\u001b[0m\u001b[0mbody\u001b[0m\u001b[0;34m\u001b[0m\u001b[0;34m\u001b[0m\u001b[0m\n\u001b[1;32m    392\u001b[0m         )\n",
      "\u001b[0;32m/Library/Frameworks/Python.framework/Versions/3.9/lib/python3.9/site-packages/elasticsearch/_sync/client/_base.py\u001b[0m in \u001b[0;36mperform_request\u001b[0;34m(self, method, path, params, headers, body)\u001b[0m\n\u001b[1;32m    284\u001b[0m             \u001b[0mtarget\u001b[0m \u001b[0;34m=\u001b[0m \u001b[0mpath\u001b[0m\u001b[0;34m\u001b[0m\u001b[0;34m\u001b[0m\u001b[0m\n\u001b[1;32m    285\u001b[0m \u001b[0;34m\u001b[0m\u001b[0m\n\u001b[0;32m--> 286\u001b[0;31m         meta, resp_body = self.transport.perform_request(\n\u001b[0m\u001b[1;32m    287\u001b[0m             \u001b[0mmethod\u001b[0m\u001b[0;34m,\u001b[0m\u001b[0;34m\u001b[0m\u001b[0;34m\u001b[0m\u001b[0m\n\u001b[1;32m    288\u001b[0m             \u001b[0mtarget\u001b[0m\u001b[0;34m,\u001b[0m\u001b[0;34m\u001b[0m\u001b[0;34m\u001b[0m\u001b[0m\n",
      "\u001b[0;32m/Library/Frameworks/Python.framework/Versions/3.9/lib/python3.9/site-packages/elastic_transport/_transport.py\u001b[0m in \u001b[0;36mperform_request\u001b[0;34m(self, method, target, body, headers, max_retries, retry_on_status, retry_on_timeout, request_timeout, client_meta)\u001b[0m\n\u001b[1;32m    327\u001b[0m             \u001b[0mstart_time\u001b[0m \u001b[0;34m=\u001b[0m \u001b[0mtime\u001b[0m\u001b[0;34m.\u001b[0m\u001b[0mtime\u001b[0m\u001b[0;34m(\u001b[0m\u001b[0;34m)\u001b[0m\u001b[0;34m\u001b[0m\u001b[0;34m\u001b[0m\u001b[0m\n\u001b[1;32m    328\u001b[0m             \u001b[0;32mtry\u001b[0m\u001b[0;34m:\u001b[0m\u001b[0;34m\u001b[0m\u001b[0;34m\u001b[0m\u001b[0m\n\u001b[0;32m--> 329\u001b[0;31m                 meta, raw_data = node.perform_request(\n\u001b[0m\u001b[1;32m    330\u001b[0m                     \u001b[0mmethod\u001b[0m\u001b[0;34m,\u001b[0m\u001b[0;34m\u001b[0m\u001b[0;34m\u001b[0m\u001b[0m\n\u001b[1;32m    331\u001b[0m                     \u001b[0mtarget\u001b[0m\u001b[0;34m,\u001b[0m\u001b[0;34m\u001b[0m\u001b[0;34m\u001b[0m\u001b[0m\n",
      "\u001b[0;32m/Library/Frameworks/Python.framework/Versions/3.9/lib/python3.9/site-packages/elastic_transport/_node/_http_urllib3.py\u001b[0m in \u001b[0;36mperform_request\u001b[0;34m(self, method, target, body, headers, request_timeout)\u001b[0m\n\u001b[1;32m    197\u001b[0m                 \u001b[0mexception\u001b[0m\u001b[0;34m=\u001b[0m\u001b[0merr\u001b[0m\u001b[0;34m,\u001b[0m\u001b[0;34m\u001b[0m\u001b[0;34m\u001b[0m\u001b[0m\n\u001b[1;32m    198\u001b[0m             )\n\u001b[0;32m--> 199\u001b[0;31m             \u001b[0;32mraise\u001b[0m \u001b[0merr\u001b[0m \u001b[0;32mfrom\u001b[0m \u001b[0;32mNone\u001b[0m\u001b[0;34m\u001b[0m\u001b[0;34m\u001b[0m\u001b[0m\n\u001b[0m\u001b[1;32m    200\u001b[0m \u001b[0;34m\u001b[0m\u001b[0m\n\u001b[1;32m    201\u001b[0m         meta = ApiResponseMeta(\n",
      "\u001b[0;31mConnectionError\u001b[0m: Connection error caused by: ConnectionError(Connection error caused by: NewConnectionError(<urllib3.connection.HTTPConnection object at 0x7fa970ff8d00>: Failed to establish a new connection: [Errno 61] Connection refused))"
     ]
    }
   ],
   "source": [
    "#### Step 4: Create an Index\n",
    "mappings = {'properties': {'title': {'type': 'text', 'analyzer': 'english'},\n",
    "                       'ethnicity': {'type': 'text', 'analyzer': 'standard'},\n",
    "                        'director': {'type': 'text', 'analyzer': 'standard'},\n",
    "                            'cast': {'type': 'text', 'analyzer': 'standard'},\n",
    "                           'genre': {'type': 'text', 'analyzer': 'standard'},\n",
    "                            'plot': {'type': 'text', 'analyzer': 'english'},\n",
    "                            'year': {'type': 'integer'},\n",
    "                       'wiki_page': {'type': 'keyword'}\n",
    "                          }\n",
    "           }\n",
    "\n",
    "index_name = 'movies-index'\n",
    "es.indices.create(index = index_name, mappings = mappings)"
   ]
  },
  {
   "cell_type": "code",
   "execution_count": null,
   "id": "2fc113a1",
   "metadata": {},
   "outputs": [],
   "source": [
    "#### Step 5: Add Dataset to Index\n",
    "## Note: You can use .index() or bulk() to add data to an index\n",
    "##       .index() adds one item at a time \n",
    "##        .bulk() lets you add multiple items at the same time\n",
    "##############################################################\n",
    "## Using .index()\n",
    "# for index, row in df.iterrows():\n",
    "#     doc = {\n",
    "#         'title': row['Title'],\n",
    "#         'ethnicity': row['Origin/Ethnicity'],\n",
    "#         'director': row['Director'],\n",
    "#         'cast': row['Cast'],\n",
    "#         'genre': row['Genre'],\n",
    "#         'plot': row['Plot'],\n",
    "#         'year': row['Release Year'],\n",
    "#         'wiki_page': row['Wiki Page']\n",
    "#     }\n",
    "            \n",
    "#     es.index(index='movies', id=index, document=doc)\n",
    "###################################################\n",
    "## Using .bulk()\n",
    "from elasticsearch.helpers import bulk\n",
    "bulk_data = []\n",
    "for index, row in df.iterrows():\n",
    "    bulk_data.append(\n",
    "        {\n",
    "            '_index': index_name,\n",
    "            '_id': index,\n",
    "            '_source': {        \n",
    "                'title': row['Title'],\n",
    "                'ethnicity': row['Origin/Ethnicity'],\n",
    "                'director': row['Director'],\n",
    "                'cast': row['Cast'],\n",
    "                'genre': row['Genre'],\n",
    "                'plot': row['Plot'],\n",
    "                'year': row['Release Year'],\n",
    "                'wiki_page': row['Wiki Page'],\n",
    "            }\n",
    "        }\n",
    "    )\n",
    "bulk(es, bulk_data)\n",
    "########################################\n",
    "## Check the number of documents indexed\n",
    "es.indices.refresh(index=index_name)\n",
    "es.cat.count(index=index_name, format='json')"
   ]
  },
  {
   "cell_type": "code",
   "execution_count": null,
   "id": "98491f8a",
   "metadata": {},
   "outputs": [],
   "source": [
    "#### Step 6: Make searches in your ES index\n",
    "resp = es.search(\n",
    "    index=index_name,\n",
    "    query={\n",
    "        'bool': {\n",
    "            'must': {\n",
    "                'match': {\n",
    "                    'cast': {'query': 'jack nicholson'},\n",
    "                }\n",
    "            },\n",
    "            'filter': {'bool': {'must_not': {'match': {'director': 'roman polanksi'}}}},\n",
    "        },\n",
    "    },\n",
    ")"
   ]
  },
  {
   "cell_type": "code",
   "execution_count": null,
   "id": "368671fa",
   "metadata": {
    "scrolled": true
   },
   "outputs": [],
   "source": [
    "import ast # Allows pretty print\n",
    "import json\n",
    "resp = ast.literal_eval(str(resp))\n",
    "print(json.dumps(resp, indent=2, sort_keys=True))"
   ]
  },
  {
   "cell_type": "code",
   "execution_count": null,
   "id": "80bbd5c4",
   "metadata": {},
   "outputs": [],
   "source": [
    "## Hits (Results) to DataFrame:\n",
    "df = json_normalize(resp['hits']['hits'])\n",
    "df.head()"
   ]
  },
  {
   "cell_type": "code",
   "execution_count": null,
   "id": "8699aca5",
   "metadata": {},
   "outputs": [],
   "source": []
  },
  {
   "cell_type": "code",
   "execution_count": null,
   "id": "7e0d1c75",
   "metadata": {},
   "outputs": [],
   "source": []
  },
  {
   "cell_type": "code",
   "execution_count": null,
   "id": "df385ca3",
   "metadata": {},
   "outputs": [],
   "source": []
  }
 ],
 "metadata": {
  "kernelspec": {
   "display_name": "Python 3 (ipykernel)",
   "language": "python",
   "name": "python3"
  },
  "language_info": {
   "codemirror_mode": {
    "name": "ipython",
    "version": 3
   },
   "file_extension": ".py",
   "mimetype": "text/x-python",
   "name": "python",
   "nbconvert_exporter": "python",
   "pygments_lexer": "ipython3",
   "version": "3.9.7"
  }
 },
 "nbformat": 4,
 "nbformat_minor": 5
}
