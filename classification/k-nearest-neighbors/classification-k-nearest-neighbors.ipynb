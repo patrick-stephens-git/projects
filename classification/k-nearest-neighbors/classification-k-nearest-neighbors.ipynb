{
 "cells": [
  {
   "cell_type": "code",
   "execution_count": 1,
   "id": "7d599314",
   "metadata": {},
   "outputs": [],
   "source": [
    "## Import Modules:\n",
    "from sklearn.model_selection import train_test_split\n",
    "from sklearn.neighbors import KNeighborsClassifier\n",
    "from sklearn.preprocessing import StandardScaler\n",
    "from sklearn.metrics import confusion_matrix\n",
    "import matplotlib.pyplot as plt\n",
    "from matplotlib.colors import ListedColormap\n",
    "import seaborn as sns\n",
    "import pandas as pd\n",
    "import numpy as np\n",
    "\n",
    "## Configure Modules:\n",
    "pd.set_option('display.max_rows', None)\n",
    "pd.set_option('display.max_columns', None)\n",
    "pd.set_option('display.max_colwidth', None)"
   ]
  },
  {
   "cell_type": "code",
   "execution_count": 2,
   "id": "c20a1afe",
   "metadata": {},
   "outputs": [
    {
     "data": {
      "text/html": [
       "<div>\n",
       "<style scoped>\n",
       "    .dataframe tbody tr th:only-of-type {\n",
       "        vertical-align: middle;\n",
       "    }\n",
       "\n",
       "    .dataframe tbody tr th {\n",
       "        vertical-align: top;\n",
       "    }\n",
       "\n",
       "    .dataframe thead th {\n",
       "        text-align: right;\n",
       "    }\n",
       "</style>\n",
       "<table border=\"1\" class=\"dataframe\">\n",
       "  <thead>\n",
       "    <tr style=\"text-align: right;\">\n",
       "      <th></th>\n",
       "      <th>User ID</th>\n",
       "      <th>Gender</th>\n",
       "      <th>Age</th>\n",
       "      <th>EstimatedSalary</th>\n",
       "      <th>Purchased</th>\n",
       "    </tr>\n",
       "  </thead>\n",
       "  <tbody>\n",
       "    <tr>\n",
       "      <th>0</th>\n",
       "      <td>15624510</td>\n",
       "      <td>Male</td>\n",
       "      <td>19</td>\n",
       "      <td>19000</td>\n",
       "      <td>0</td>\n",
       "    </tr>\n",
       "    <tr>\n",
       "      <th>1</th>\n",
       "      <td>15810944</td>\n",
       "      <td>Male</td>\n",
       "      <td>35</td>\n",
       "      <td>20000</td>\n",
       "      <td>0</td>\n",
       "    </tr>\n",
       "    <tr>\n",
       "      <th>2</th>\n",
       "      <td>15668575</td>\n",
       "      <td>Female</td>\n",
       "      <td>26</td>\n",
       "      <td>43000</td>\n",
       "      <td>0</td>\n",
       "    </tr>\n",
       "    <tr>\n",
       "      <th>3</th>\n",
       "      <td>15603246</td>\n",
       "      <td>Female</td>\n",
       "      <td>27</td>\n",
       "      <td>57000</td>\n",
       "      <td>0</td>\n",
       "    </tr>\n",
       "    <tr>\n",
       "      <th>4</th>\n",
       "      <td>15804002</td>\n",
       "      <td>Male</td>\n",
       "      <td>19</td>\n",
       "      <td>76000</td>\n",
       "      <td>0</td>\n",
       "    </tr>\n",
       "  </tbody>\n",
       "</table>\n",
       "</div>"
      ],
      "text/plain": [
       "    User ID  Gender  Age  EstimatedSalary  Purchased\n",
       "0  15624510    Male   19            19000          0\n",
       "1  15810944    Male   35            20000          0\n",
       "2  15668575  Female   26            43000          0\n",
       "3  15603246  Female   27            57000          0\n",
       "4  15804002    Male   19            76000          0"
      ]
     },
     "execution_count": 2,
     "metadata": {},
     "output_type": "execute_result"
    }
   ],
   "source": [
    "## Import Dataset\n",
    "dataset = pd.read_csv('purchase-data.csv')\n",
    "dataset.head()"
   ]
  },
  {
   "cell_type": "code",
   "execution_count": 3,
   "id": "160f413f",
   "metadata": {},
   "outputs": [
    {
     "name": "stdout",
     "output_type": "stream",
     "text": [
      "Dataset Features shape (X): (400, 2) (instances, features)\n",
      "Dataset Labels shape (y): (400, 1) (labels)\n"
     ]
    }
   ],
   "source": [
    "## Convert Dataframe to Feature Values\n",
    "X = dataset.iloc[:, [2, 3]].values ## Get X Values: Age, Estimated Salary\n",
    "y = dataset.iloc[:, [4]].values ## Get Y values: Purchased (y/n)\n",
    "print('Dataset Features shape (X): {0} (instances, features)'.format(X.shape))\n",
    "print('Dataset Labels shape (y): {0} (labels)'.format(y.shape))\n",
    "## Split Dataset into Training and Test dataset\n",
    "# Note: 'test_size' = percent of dataset allocated to test dataset, \n",
    "X_train, X_test, y_train, y_test = train_test_split(X, y, \n",
    "                                                    test_size=0.15, \n",
    "                                                    random_state=0)\n",
    "######## Normalize Training Dataset: \n",
    "## Standardize features by removing the mean and scaling to unit variance; Standardization of a dataset is a common requirement for many machine learning estimators: they might behave badly if the individual features do not more or less look like standard normally distributed data (e.g. Gaussian with 0 mean and unit variance).\n",
    "sc = StandardScaler()\n",
    "X_train = sc.fit_transform(X_train)\n",
    "X_test = sc.transform(X_test)"
   ]
  },
  {
   "cell_type": "code",
   "execution_count": 4,
   "id": "6e21c933",
   "metadata": {
    "scrolled": false
   },
   "outputs": [
    {
     "name": "stdout",
     "output_type": "stream",
     "text": [
      "Training Dataset Features shape (X_train): (340, 2) (instances, features)\n",
      "Training Dataset Labels shape (y_train): (340, 1) (labels)\n"
     ]
    },
    {
     "data": {
      "text/html": [
       "<div>\n",
       "<style scoped>\n",
       "    .dataframe tbody tr th:only-of-type {\n",
       "        vertical-align: middle;\n",
       "    }\n",
       "\n",
       "    .dataframe tbody tr th {\n",
       "        vertical-align: top;\n",
       "    }\n",
       "\n",
       "    .dataframe thead th {\n",
       "        text-align: right;\n",
       "    }\n",
       "</style>\n",
       "<table border=\"1\" class=\"dataframe\">\n",
       "  <thead>\n",
       "    <tr style=\"text-align: right;\">\n",
       "      <th></th>\n",
       "      <th>age</th>\n",
       "      <th>estimated salary</th>\n",
       "      <th>purchased</th>\n",
       "    </tr>\n",
       "  </thead>\n",
       "  <tbody>\n",
       "    <tr>\n",
       "      <th>0</th>\n",
       "      <td>-0.582524</td>\n",
       "      <td>-1.509921</td>\n",
       "      <td>0</td>\n",
       "    </tr>\n",
       "    <tr>\n",
       "      <th>1</th>\n",
       "      <td>2.096523</td>\n",
       "      <td>-0.810979</td>\n",
       "      <td>1</td>\n",
       "    </tr>\n",
       "    <tr>\n",
       "      <th>2</th>\n",
       "      <td>-1.826367</td>\n",
       "      <td>0.179190</td>\n",
       "      <td>0</td>\n",
       "    </tr>\n",
       "    <tr>\n",
       "      <th>3</th>\n",
       "      <td>-0.199803</td>\n",
       "      <td>0.849009</td>\n",
       "      <td>1</td>\n",
       "    </tr>\n",
       "    <tr>\n",
       "      <th>4</th>\n",
       "      <td>-1.826367</td>\n",
       "      <td>-1.276940</td>\n",
       "      <td>0</td>\n",
       "    </tr>\n",
       "  </tbody>\n",
       "</table>\n",
       "</div>"
      ],
      "text/plain": [
       "        age  estimated salary  purchased\n",
       "0 -0.582524         -1.509921          0\n",
       "1  2.096523         -0.810979          1\n",
       "2 -1.826367          0.179190          0\n",
       "3 -0.199803          0.849009          1\n",
       "4 -1.826367         -1.276940          0"
      ]
     },
     "execution_count": 4,
     "metadata": {},
     "output_type": "execute_result"
    }
   ],
   "source": [
    "########################################################\n",
    "######## Training Dataset:\n",
    "print('Training Dataset Features shape (X_train): {0} (instances, features)'.format(X_train.shape))\n",
    "print('Training Dataset Labels shape (y_train): {0} (labels)'.format(y_train.shape))\n",
    "## Explore Training Dataset:\n",
    "X_train_df = pd.DataFrame(X_train, columns = ['age','estimated salary'])\n",
    "y_train_df = pd.DataFrame(y_train, columns = ['purchased'])\n",
    "training_dataset = pd.concat([X_train_df, y_train_df], axis=1)\n",
    "training_dataset.head()"
   ]
  },
  {
   "cell_type": "code",
   "execution_count": 5,
   "id": "167a573e",
   "metadata": {},
   "outputs": [
    {
     "name": "stdout",
     "output_type": "stream",
     "text": [
      "Validation Dataset Features shape (X_test): (60, 2) (instances, features)\n",
      "Validation Dataset Labels shape (y_test): (60, 1) (labels)\n"
     ]
    },
    {
     "data": {
      "text/html": [
       "<div>\n",
       "<style scoped>\n",
       "    .dataframe tbody tr th:only-of-type {\n",
       "        vertical-align: middle;\n",
       "    }\n",
       "\n",
       "    .dataframe tbody tr th {\n",
       "        vertical-align: top;\n",
       "    }\n",
       "\n",
       "    .dataframe thead th {\n",
       "        text-align: right;\n",
       "    }\n",
       "</style>\n",
       "<table border=\"1\" class=\"dataframe\">\n",
       "  <thead>\n",
       "    <tr style=\"text-align: right;\">\n",
       "      <th></th>\n",
       "      <th>age</th>\n",
       "      <th>estimated salary</th>\n",
       "      <th>purchased</th>\n",
       "    </tr>\n",
       "  </thead>\n",
       "  <tbody>\n",
       "    <tr>\n",
       "      <th>0</th>\n",
       "      <td>-0.773884</td>\n",
       "      <td>0.499538</td>\n",
       "      <td>0</td>\n",
       "    </tr>\n",
       "    <tr>\n",
       "      <th>1</th>\n",
       "      <td>-0.008442</td>\n",
       "      <td>-0.577998</td>\n",
       "      <td>0</td>\n",
       "    </tr>\n",
       "    <tr>\n",
       "      <th>2</th>\n",
       "      <td>-0.295483</td>\n",
       "      <td>0.150067</td>\n",
       "      <td>0</td>\n",
       "    </tr>\n",
       "    <tr>\n",
       "      <th>3</th>\n",
       "      <td>-0.773884</td>\n",
       "      <td>0.266557</td>\n",
       "      <td>0</td>\n",
       "    </tr>\n",
       "    <tr>\n",
       "      <th>4</th>\n",
       "      <td>-0.295483</td>\n",
       "      <td>-0.577998</td>\n",
       "      <td>0</td>\n",
       "    </tr>\n",
       "  </tbody>\n",
       "</table>\n",
       "</div>"
      ],
      "text/plain": [
       "        age  estimated salary  purchased\n",
       "0 -0.773884          0.499538          0\n",
       "1 -0.008442         -0.577998          0\n",
       "2 -0.295483          0.150067          0\n",
       "3 -0.773884          0.266557          0\n",
       "4 -0.295483         -0.577998          0"
      ]
     },
     "execution_count": 5,
     "metadata": {},
     "output_type": "execute_result"
    }
   ],
   "source": [
    "########################################################\n",
    "######## Validation Dataset:\n",
    "print('Validation Dataset Features shape (X_test): {0} (instances, features)'.format(X_test.shape))\n",
    "print('Validation Dataset Labels shape (y_test): {0} (labels)'.format(y_test.shape))\n",
    "######## Normalize Training Dataset: \n",
    "## Explore Training Dataset:\n",
    "X_test_df = pd.DataFrame(X_test, columns = ['age','estimated salary'])\n",
    "y_test_df = pd.DataFrame(y_test, columns = ['purchased'])\n",
    "validation_dataset = pd.concat([X_test_df, y_test_df], axis=1)\n",
    "validation_dataset.head()"
   ]
  },
  {
   "cell_type": "code",
   "execution_count": 6,
   "id": "3162b62b",
   "metadata": {},
   "outputs": [],
   "source": [
    "col_name_Y = 'purchased'\n",
    "col_name_X = ['age','estimated salary']\n",
    "\n",
    "def validate_model(X_test, col_name_Y, col_name_X, k_value):\n",
    "    ## Validate Model\n",
    "    # Train Model using the Training Dataset\n",
    "    k = k_value\n",
    "    classifier = KNeighborsClassifier(n_neighbors = k, ## Number of neighbors to use for kneighbors queries (default=5).\n",
    "                                      metric = 'minkowski', ## Metric to use for distance computation. Default is “minkowski”, which results in the standard Euclidean distance when p=2.\n",
    "                                      p = 2) ## Power parameter for the Minkowski metric. When p = 1, this is equivalent to using manhattan_distance (l1), and euclidean_distance (l2) for p = 2. For arbitrary p, minkowski_distance (l_p) is used.\n",
    "    classifier.fit(X_train, y_train.ravel()) ## Fit is used for training the model with the provided inputs and targets\n",
    "    # print(col_name_X)\n",
    "    # print(col_name_Y)\n",
    "    y_pred = classifier.predict(X_test)\n",
    "    y_pred_df = pd.DataFrame(y_pred, columns = [col_name_Y])\n",
    "    validation_predictions_df = pd.concat([X_test_df, y_pred_df], axis=1)\n",
    "    #################\n",
    "    ## Predictions\n",
    "    label_prediction_true_df = validation_predictions_df[(validation_predictions_df[col_name_Y] == True)]\n",
    "    label_prediction_false_df = validation_predictions_df[(validation_predictions_df[col_name_Y] == False)]\n",
    "    ## Truths\n",
    "    validation_dataset_true_df = validation_dataset[(validation_dataset[col_name_Y] == True)]\n",
    "    validation_dataset_false_df = validation_dataset[(validation_dataset[col_name_Y] == False)]\n",
    "    ## Compare Predictions vs Truths\n",
    "    validation_predictions_df.compare(validation_dataset, keep_equal=False)\n",
    "    ## Create Confusion Matrix\n",
    "    cm = confusion_matrix(y_test, y_pred)\n",
    "    # print(cm)\n",
    "    #################\n",
    "    true_positives_df = pd.merge(validation_dataset_true_df, label_prediction_true_df, how='left', on=col_name_X) # text = spam; prediction = spam\n",
    "    false_positives_df = pd.merge(label_prediction_true_df, validation_dataset_false_df, how='left', on=col_name_X) # text = spam; prediction = spam\n",
    "    true_negatives_df = pd.merge(validation_dataset_false_df, label_prediction_false_df, how='left', on=col_name_X) # text = spam; prediction = spam\n",
    "    false_negatives_df = pd.merge(label_prediction_false_df, validation_dataset_true_df, how='left', on=col_name_X) # text = spam; prediction = spam\n",
    "    #################\n",
    "    true_positives_count = true_positives_df[(true_positives_df['purchased_y'] == 1.0)]['purchased_y'].count()\n",
    "    false_positives_count = false_positives_df[(false_positives_df['purchased_y'] == 0.0)]['purchased_y'].count()\n",
    "    true_negatives_count = true_negatives_df[(true_negatives_df['purchased_y'] == 0.0)]['purchased_y'].count()\n",
    "    false_negatives_count = false_negatives_df[(false_negatives_df['purchased_y'] == 1.0)]['purchased_y'].count()\n",
    "    # print('TP: {0}'.format(true_positives_count))\n",
    "    # print('FP: {0}'.format(false_positives_count))\n",
    "    # print('TN: {0}'.format(true_negatives_count))\n",
    "    # print('FN: {0}'.format(false_negatives_count))\n",
    "    #################\n",
    "    accuracy = true_positives_count / (true_positives_count + false_positives_count + true_negatives_count + false_negatives_count)\n",
    "    precision = true_positives_count / (true_positives_count + false_positives_count)\n",
    "    recall = true_positives_count / (true_positives_count + false_negatives_count)\n",
    "    # print('Accuracy: {0}%'.format(accuracy)) # Accuracy = TP / P\n",
    "    # print('Precision: {0}%'.format(precision)) # Precision = TP / (TP + FP)\n",
    "    # print('Recall: {0}%'.format(recall)) # Recall = TP / (TP + FN)\n",
    "    return k, accuracy, precision, recall"
   ]
  },
  {
   "cell_type": "code",
   "execution_count": 7,
   "id": "b464f4f4",
   "metadata": {
    "scrolled": false
   },
   "outputs": [
    {
     "data": {
      "image/png": "[encoded data removed]",
      "text/plain": [
       "<Figure size 432x288 with 1 Axes>"
      ]
     },
     "metadata": {
      "needs_background": "light"
     },
     "output_type": "display_data"
    }
   ],
   "source": [
    "# Train Model using the Training Dataset across a variety of k's to find most optimal k\n",
    "accuracy_list = []\n",
    "k_list = []\n",
    "ks = range(1, 10)\n",
    "for k in ks:\n",
    "    # print('k = {0}'.format(k))\n",
    "    k, accuracy, precision, recall = validate_model(X_test, col_name_Y, col_name_X, k)\n",
    "    k_list.append(k)\n",
    "    accuracy_list.append(accuracy)\n",
    "    # print('\\n')\n",
    "\n",
    "# Visualize accuracy vs k\n",
    "fig, ax = plt.subplots()\n",
    "ax.plot(k_list, accuracy_list)\n",
    "ax.set(xlabel='k',\n",
    "       ylabel='Accuracy',\n",
    "       title='Accuracy of KNN Model by K')\n",
    "## Resize Plot:\n",
    "plt.rcParams['figure.figsize'] = [15, 5] \n",
    "plt.rcParams['figure.autolayout'] = True\n",
    "plt.show()"
   ]
  },
  {
   "cell_type": "code",
   "execution_count": 8,
   "id": "5adbfb13",
   "metadata": {},
   "outputs": [
    {
     "data": {
      "text/html": [
       "<style>#sk-container-id-1 {color: black;background-color: white;}#sk-container-id-1 pre{padding: 0;}#sk-container-id-1 div.sk-toggleable {background-color: white;}#sk-container-id-1 label.sk-toggleable__label {cursor: pointer;display: block;width: 100%;margin-bottom: 0;padding: 0.3em;box-sizing: border-box;text-align: center;}#sk-container-id-1 label.sk-toggleable__label-arrow:before {content: \"▸\";float: left;margin-right: 0.25em;color: #696969;}#sk-container-id-1 label.sk-toggleable__label-arrow:hover:before {color: black;}#sk-container-id-1 div.sk-estimator:hover label.sk-toggleable__label-arrow:before {color: black;}#sk-container-id-1 div.sk-toggleable__content {max-height: 0;max-width: 0;overflow: hidden;text-align: left;background-color: #f0f8ff;}#sk-container-id-1 div.sk-toggleable__content pre {margin: 0.2em;color: black;border-radius: 0.25em;background-color: #f0f8ff;}#sk-container-id-1 input.sk-toggleable__control:checked~div.sk-toggleable__content {max-height: 200px;max-width: 100%;overflow: auto;}#sk-container-id-1 input.sk-toggleable__control:checked~label.sk-toggleable__label-arrow:before {content: \"▾\";}#sk-container-id-1 div.sk-estimator input.sk-toggleable__control:checked~label.sk-toggleable__label {background-color: #d4ebff;}#sk-container-id-1 div.sk-label input.sk-toggleable__control:checked~label.sk-toggleable__label {background-color: #d4ebff;}#sk-container-id-1 input.sk-hidden--visually {border: 0;clip: rect(1px 1px 1px 1px);clip: rect(1px, 1px, 1px, 1px);height: 1px;margin: -1px;overflow: hidden;padding: 0;position: absolute;width: 1px;}#sk-container-id-1 div.sk-estimator {font-family: monospace;background-color: #f0f8ff;border: 1px dotted black;border-radius: 0.25em;box-sizing: border-box;margin-bottom: 0.5em;}#sk-container-id-1 div.sk-estimator:hover {background-color: #d4ebff;}#sk-container-id-1 div.sk-parallel-item::after {content: \"\";width: 100%;border-bottom: 1px solid gray;flex-grow: 1;}#sk-container-id-1 div.sk-label:hover label.sk-toggleable__label {background-color: #d4ebff;}#sk-container-id-1 div.sk-serial::before {content: \"\";position: absolute;border-left: 1px solid gray;box-sizing: border-box;top: 0;bottom: 0;left: 50%;z-index: 0;}#sk-container-id-1 div.sk-serial {display: flex;flex-direction: column;align-items: center;background-color: white;padding-right: 0.2em;padding-left: 0.2em;position: relative;}#sk-container-id-1 div.sk-item {position: relative;z-index: 1;}#sk-container-id-1 div.sk-parallel {display: flex;align-items: stretch;justify-content: center;background-color: white;position: relative;}#sk-container-id-1 div.sk-item::before, #sk-container-id-1 div.sk-parallel-item::before {content: \"\";position: absolute;border-left: 1px solid gray;box-sizing: border-box;top: 0;bottom: 0;left: 50%;z-index: -1;}#sk-container-id-1 div.sk-parallel-item {display: flex;flex-direction: column;z-index: 1;position: relative;background-color: white;}#sk-container-id-1 div.sk-parallel-item:first-child::after {align-self: flex-end;width: 50%;}#sk-container-id-1 div.sk-parallel-item:last-child::after {align-self: flex-start;width: 50%;}#sk-container-id-1 div.sk-parallel-item:only-child::after {width: 0;}#sk-container-id-1 div.sk-dashed-wrapped {border: 1px dashed gray;margin: 0 0.4em 0.5em 0.4em;box-sizing: border-box;padding-bottom: 0.4em;background-color: white;}#sk-container-id-1 div.sk-label label {font-family: monospace;font-weight: bold;display: inline-block;line-height: 1.2em;}#sk-container-id-1 div.sk-label-container {text-align: center;}#sk-container-id-1 div.sk-container {/* jupyter's `normalize.less` sets `[hidden] { display: none; }` but bootstrap.min.css set `[hidden] { display: none !important; }` so we also need the `!important` here to be able to override the default hidden behavior on the sphinx rendered scikit-learn.org. See: https://github.com/scikit-learn/scikit-learn/issues/21755 */display: inline-block !important;position: relative;}#sk-container-id-1 div.sk-text-repr-fallback {display: none;}</style><div id=\"sk-container-id-1\" class=\"sk-top-container\"><div class=\"sk-text-repr-fallback\"><pre>KNeighborsClassifier(n_neighbors=3)</pre><b>In a Jupyter environment, please rerun this cell to show the HTML representation or trust the notebook. <br />On GitHub, the HTML representation is unable to render, please try loading this page with nbviewer.org.</b></div><div class=\"sk-container\" hidden><div class=\"sk-item\"><div class=\"sk-estimator sk-toggleable\"><input class=\"sk-toggleable__control sk-hidden--visually\" id=\"sk-estimator-id-1\" type=\"checkbox\" checked><label for=\"sk-estimator-id-1\" class=\"sk-toggleable__label sk-toggleable__label-arrow\">KNeighborsClassifier</label><div class=\"sk-toggleable__content\"><pre>KNeighborsClassifier(n_neighbors=3)</pre></div></div></div></div></div>"
      ],
      "text/plain": [
       "KNeighborsClassifier(n_neighbors=3)"
      ]
     },
     "execution_count": 8,
     "metadata": {},
     "output_type": "execute_result"
    }
   ],
   "source": [
    "# Train Model using the Training Dataset\n",
    "k = 3\n",
    "classifier = KNeighborsClassifier(n_neighbors = k, ## Number of neighbors to use for kneighbors queries (default=5).\n",
    "                                  metric = 'minkowski', ## Metric to use for distance computation. Default is “minkowski”, which results in the standard Euclidean distance when p=2.\n",
    "                                  p = 2) ## Power parameter for the Minkowski metric. When p = 1, this is equivalent to using manhattan_distance (l1), and euclidean_distance (l2) for p = 2. For arbitrary p, minkowski_distance (l_p) is used.\n",
    "classifier.fit(X_train, y_train.ravel()) ## Fit is used for training the model with the provided inputs and targets"
   ]
  },
  {
   "cell_type": "code",
   "execution_count": 9,
   "id": "1d74c229",
   "metadata": {},
   "outputs": [
    {
     "name": "stdout",
     "output_type": "stream",
     "text": [
      "For age=86 and estimated_salary=10000 the predicted purchase value is [1]\n"
     ]
    }
   ],
   "source": [
    "## Debug & Tune Model: Review Machine Learning Label Output vs Debugging Dataset Label\n",
    "#### IF inspired THEN fix issues (dataset, hyperparameters, etc.)\n",
    "age = 86\n",
    "estimated_salary = 10000\n",
    "X_debug = [[age, estimated_salary]]\n",
    "# print(X_debug)\n",
    "X_debug = sc.transform(X_debug)\n",
    "# print(X_debug)\n",
    "y_pred_debug = classifier.predict(X_debug)\n",
    "print('For age={0} and estimated_salary={1} the predicted purchase value is {2}'.format(age, estimated_salary, y_pred_debug))"
   ]
  },
  {
   "cell_type": "code",
   "execution_count": 10,
   "id": "04e73bac",
   "metadata": {},
   "outputs": [
    {
     "name": "stdout",
     "output_type": "stream",
     "text": [
      "[[42  3]\n",
      " [ 1 14]]\n",
      "TP: 14\n",
      "FP: 3\n",
      "TN: 42\n",
      "FN: 1\n",
      "\n",
      "\n",
      "Accuracy: 0.23333333333333334%\n",
      "Precision: 0.8235294117647058%\n",
      "Recall: 0.9333333333333333%\n"
     ]
    }
   ],
   "source": [
    "## Validate Model\n",
    "y_pred = classifier.predict(X_test)\n",
    "y_pred_df = pd.DataFrame(y_pred, columns = ['purchased'])\n",
    "validation_predictions_df = pd.concat([X_test_df, y_pred_df], axis=1)\n",
    "#################\n",
    "## Predictions\n",
    "label_prediction_true_df = validation_predictions_df[(validation_predictions_df['purchased'] == True)]\n",
    "label_prediction_false_df = validation_predictions_df[(validation_predictions_df['purchased'] == False)]\n",
    "## Truths\n",
    "validation_dataset_true_df = validation_dataset[(validation_dataset['purchased'] == True)]\n",
    "validation_dataset_false_df = validation_dataset[(validation_dataset['purchased'] == False)]\n",
    "## Compare Predictions vs Truths\n",
    "validation_predictions_df.compare(validation_dataset, keep_equal=False)\n",
    "## Create Confusion Matrix\n",
    "cm = confusion_matrix(y_test, y_pred)\n",
    "print(cm)\n",
    "#################\n",
    "true_positives_df = pd.merge(validation_dataset_true_df, label_prediction_true_df, how='left', on=['age','estimated salary']) # text = spam; prediction = spam\n",
    "false_positives_df = pd.merge(label_prediction_true_df, validation_dataset_false_df, how='left', on=['age','estimated salary']) # text = spam; prediction = spam\n",
    "true_negatives_df = pd.merge(validation_dataset_false_df, label_prediction_false_df, how='left', on=['age','estimated salary']) # text = spam; prediction = spam\n",
    "false_negatives_df = pd.merge(label_prediction_false_df, validation_dataset_true_df, how='left', on=['age','estimated salary']) # text = spam; prediction = spam\n",
    "#################\n",
    "true_positives_count = true_positives_df[(true_positives_df['purchased_y'] == 1.0)]['purchased_y'].count()\n",
    "false_positives_count = false_positives_df[(false_positives_df['purchased_y'] == 0.0)]['purchased_y'].count()\n",
    "true_negatives_count = true_negatives_df[(true_negatives_df['purchased_y'] == 0.0)]['purchased_y'].count()\n",
    "false_negatives_count = false_negatives_df[(false_negatives_df['purchased_y'] == 1.0)]['purchased_y'].count()\n",
    "print('TP: {0}'.format(true_positives_count))\n",
    "print('FP: {0}'.format(false_positives_count))\n",
    "print('TN: {0}'.format(true_negatives_count))\n",
    "print('FN: {0}'.format(false_negatives_count))\n",
    "print('\\n')\n",
    "#################\n",
    "accuracy = true_positives_count / (true_positives_count + false_positives_count + true_negatives_count + false_negatives_count)\n",
    "precision = true_positives_count / (true_positives_count + false_positives_count)\n",
    "recall = true_positives_count / (true_positives_count + false_negatives_count)\n",
    "print('Accuracy: {0}%'.format(accuracy)) # Accuracy = TP / P\n",
    "print('Precision: {0}%'.format(precision)) # Precision = TP / (TP + FP)\n",
    "print('Recall: {0}%'.format(recall)) # Recall = TP / (TP + FN)"
   ]
  },
  {
   "cell_type": "code",
   "execution_count": 11,
   "id": "cf18f103",
   "metadata": {},
   "outputs": [
    {
     "data": {
      "image/png": "[encoded data removed]",
      "text/plain": [
       "<Figure size 1080x360 with 1 Axes>"
      ]
     },
     "metadata": {
      "needs_background": "light"
     },
     "output_type": "display_data"
    }
   ],
   "source": [
    "# Visualising the Training Dataset results\n",
    "X, y = X_train, y_train\n",
    "step = .01 # Change the strength of the area shown on chart per classification\n",
    "x_min, x_max = X[:, 0].min() - 1, X[:, 0].max() + 1\n",
    "y_min, y_max = X[:, 1].min() - 1, X[:, 1].max() + 1\n",
    "xx, yy = np.meshgrid(np.arange(start = x_min, \n",
    "                               stop = x_max, \n",
    "                               step = step), \n",
    "                     np.arange(start = y_min, \n",
    "                               stop = y_max, \n",
    "                               step = step))\n",
    "Z = classifier.predict(np.c_[xx.ravel(), yy.ravel()])\n",
    "Z = Z.reshape(xx.shape)\n",
    "\n",
    "plt.figure()\n",
    "\n",
    "plt.contourf(xx, yy, Z, cmap = ListedColormap(['orange','cornflowerblue']))\n",
    "\n",
    "sns.scatterplot(x=X[:, 0], y=X[:, 1], alpha=1.0, edgecolor=\"black\")\n",
    "\n",
    "plt.xlim(xx.min(), xx.max())\n",
    "plt.ylim(yy.min(), yy.max())\n",
    "\n",
    "plt.title('K-NN Classification, k = {0} (Training Dataset)'.format(k))\n",
    "plt.xlabel('Age')\n",
    "plt.ylabel('Estimated Salary')\n",
    "# plt.legend()\n",
    "plt.show()"
   ]
  },
  {
   "cell_type": "code",
   "execution_count": 12,
   "id": "d3172c47",
   "metadata": {},
   "outputs": [
    {
     "data": {
      "image/png": "[encoded data removed]",
      "text/plain": [
       "<Figure size 1080x360 with 1 Axes>"
      ]
     },
     "metadata": {
      "needs_background": "light"
     },
     "output_type": "display_data"
    }
   ],
   "source": [
    "# Visualising the Testing Dataset results\n",
    "X, y = X_test, y_test\n",
    "step = .01 # Change the strength of the area shown on chart per classification\n",
    "x_min, x_max = X[:, 0].min() - 1, X[:, 0].max() + 1\n",
    "y_min, y_max = X[:, 1].min() - 1, X[:, 1].max() + 1\n",
    "xx, yy = np.meshgrid(np.arange(start = x_min, \n",
    "                               stop = x_max, \n",
    "                               step = step), \n",
    "                     np.arange(start = y_min, \n",
    "                               stop = y_max, \n",
    "                               step = step))\n",
    "Z = classifier.predict(np.c_[xx.ravel(), yy.ravel()])\n",
    "Z = Z.reshape(xx.shape)\n",
    "\n",
    "plt.figure()\n",
    "\n",
    "plt.contourf(xx, yy, Z, cmap = ListedColormap(['orange','cornflowerblue']))\n",
    "\n",
    "sns.scatterplot(x=X[:, 0], y=X[:, 1], alpha=1.0, edgecolor=\"black\")\n",
    "\n",
    "plt.xlim(xx.min(), xx.max())\n",
    "plt.ylim(yy.min(), yy.max())\n",
    "\n",
    "plt.title('K-NN Classification, k = {0} (Testing Dataset)'.format(k))\n",
    "plt.xlabel('Age')\n",
    "plt.ylabel('Estimated Salary')\n",
    "# plt.legend()\n",
    "plt.show()"
   ]
  },
  {
   "cell_type": "code",
   "execution_count": null,
   "id": "f36cc7e4",
   "metadata": {},
   "outputs": [],
   "source": []
  },
  {
   "cell_type": "code",
   "execution_count": null,
   "id": "fe466383",
   "metadata": {},
   "outputs": [],
   "source": []
  },
  {
   "cell_type": "code",
   "execution_count": null,
   "id": "a91fc275",
   "metadata": {},
   "outputs": [],
   "source": []
  },
  {
   "cell_type": "code",
   "execution_count": null,
   "id": "8399af78",
   "metadata": {},
   "outputs": [],
   "source": []
  }
 ],
 "metadata": {
  "kernelspec": {
   "display_name": "Python 3 (ipykernel)",
   "language": "python",
   "name": "python3"
  },
  "language_info": {
   "codemirror_mode": {
    "name": "ipython",
    "version": 3
   },
   "file_extension": ".py",
   "mimetype": "text/x-python",
   "name": "python",
   "nbconvert_exporter": "python",
   "pygments_lexer": "ipython3",
   "version": "3.9.7"
  }
 },
 "nbformat": 4,
 "nbformat_minor": 5
}
